{
 "cells": [
  {
   "cell_type": "markdown",
   "metadata": {
    "tags": []
   },
   "source": [
    "# Pluto Plotting\n",
    "\n",
    "of the Kelvin-Helmholtz instability"
   ]
  },
  {
   "cell_type": "markdown",
   "metadata": {},
   "source": [
    "To run this notebook, you need to download and run the `PLUTO` code. The setup files, instructions and this noteook can be downloaded from [github](https://github.com/birnstiel/pluto_khi_setup). Instructions can be found in the repositories [`Readme.md`](Readme.md)."
   ]
  },
  {
   "cell_type": "code",
   "execution_count": null,
   "metadata": {
    "tags": []
   },
   "outputs": [],
   "source": [
    "import matplotlib as mpl\n",
    "import matplotlib.pyplot as plt\n",
    "from matplotlib import animation\n",
    "import numpy as np\n",
    "import glob\n",
    "import pyPLUTO as pp"
   ]
  },
  {
   "cell_type": "markdown",
   "metadata": {},
   "source": [
    "Read in the data"
   ]
  },
  {
   "cell_type": "code",
   "execution_count": null,
   "metadata": {},
   "outputs": [],
   "source": [
    "files = glob.glob('data*.dbl')\n",
    "D = [pp.pload.pload(i, w_dir='./') for i in range(len(files))]"
   ]
  },
  {
   "cell_type": "markdown",
   "metadata": {},
   "source": [
    "Set some plotting parameters"
   ]
  },
  {
   "cell_type": "code",
   "execution_count": null,
   "metadata": {
    "tags": []
   },
   "outputs": [],
   "source": [
    "q = len(D[0].x1)//40; # for quiver plots: plot every qth arrow only\n",
    "quantity = 'tr1' # 'rho', 'tr1'"
   ]
  },
  {
   "cell_type": "code",
   "execution_count": null,
   "metadata": {
    "tags": []
   },
   "outputs": [],
   "source": [
    "if quantity == 'rho':\n",
    "    name = 'Density'\n",
    "    vmin = [getattr(_D,quantity).min() for _D in D][-1]\n",
    "    vmax = [getattr(_D,quantity).max() for _D in D][-1]\n",
    "elif quantity == 'tr1':\n",
    "    vmin = 0\n",
    "    vmax = 1\n",
    "    name = 'Tracer'"
   ]
  },
  {
   "cell_type": "markdown",
   "metadata": {},
   "source": [
    "## Static plotting"
   ]
  },
  {
   "cell_type": "code",
   "execution_count": null,
   "metadata": {},
   "outputs": [],
   "source": [
    "D1 = D[-1]\n",
    "\n",
    "f,ax = plt.subplots(figsize=(10, 4))\n",
    "cc = ax.pcolormesh(D1.x1r, D1.x2r, D1.tr1.T, vmin=0, vmax=1)\n",
    "ax.set_title(f'{name}, time = {D1.SimTime:.2f}')\n",
    "ax.set_aspect(1)\n",
    "ax.set_xlabel('x')\n",
    "ax.set_ylabel('y')\n",
    "qq=ax.quiver(D1.x1[::q], D1.x2[::q], D1.vx1[::q,::q].T, D1.vx2[::q,::q].T, scale=None)\n",
    "cc=f.colorbar(cc, ax=ax)\n",
    "f.subplots_adjust(left=0.1, bottom=0.1, right=0.9, top=0.95);"
   ]
  },
  {
   "cell_type": "markdown",
   "metadata": {},
   "source": [
    "## Create an animation"
   ]
  },
  {
   "cell_type": "code",
   "execution_count": null,
   "metadata": {
    "tags": []
   },
   "outputs": [],
   "source": [
    "def animate(i,init=False):\n",
    "    if init:\n",
    "       \n",
    "        cc = ax.pcolormesh(D[0].x1r, D[0].x2r, getattr(D[0], quantity).T, edgecolors='face',\n",
    "                           lw=0.5, alpha=1.0, vmin=vmin, vmax=vmax)\n",
    "        qq = ax.quiver(D[0].x1[::q], D[0].x2[::q], D[i].vx1[::q, ::q].T, D[i].vx2[::q, ::q].T, scale=None)\n",
    "        ax.set_aspect(1)\n",
    "        ax.set_xlabel('$x$')\n",
    "        ax.set_ylabel('$y$')\n",
    "        cb=plt.colorbar(cc, ax=ax)\n",
    "        ax.set_title(f'{name}, time = {D[i].SimTime:.2f}')\n",
    "        f.subplots_adjust(left=0.1, bottom=0.1, right=0.9, top=0.95);\n",
    "        \n",
    "        return cc\n",
    "    \n",
    "    else:\n",
    "        quad1 = ax.findobj(lambda o: type(o)==mpl.collections.QuadMesh)[0]\n",
    "        quad1.set_array(getattr(D[i], quantity).T.ravel())\n",
    "        \n",
    "        quiver1 = ax.findobj(lambda o: type(o)==mpl.quiver.Quiver)[0]\n",
    "        quiver1.set_UVC(D[i].vx1[::q, ::q].T, D[i].vx2[::q, ::q].T)\n",
    "        \n",
    "        ax.set_title(f'{name}, time = {D[i].SimTime:.2f}')\n",
    "\n",
    "        return quad1, quiver1\n",
    "    \n",
    "mpl.rc('animation', html='html5')\n",
    "f,ax = plt.subplots(1, 1, figsize=(10, 4))\n",
    "anim = animation.FuncAnimation(f, animate, frames=len(files),\n",
    "                               init_func=lambda: animate(0, init=True),\n",
    "                               interval=33, blit=False)\n",
    "plt.close(f)"
   ]
  },
  {
   "cell_type": "code",
   "execution_count": null,
   "metadata": {},
   "outputs": [],
   "source": [
    "display(anim)"
   ]
  }
 ],
 "metadata": {
  "kernelspec": {
   "display_name": "Python 3 (ipykernel)",
   "language": "python",
   "name": "python3"
  },
  "language_info": {
   "codemirror_mode": {
    "name": "ipython",
    "version": 3
   },
   "file_extension": ".py",
   "mimetype": "text/x-python",
   "name": "python",
   "nbconvert_exporter": "python",
   "pygments_lexer": "ipython3",
   "version": "3.10.5"
  }
 },
 "nbformat": 4,
 "nbformat_minor": 4
}
